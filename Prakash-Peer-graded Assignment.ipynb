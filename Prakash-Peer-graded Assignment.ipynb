{
 "cells": [
  {
   "cell_type": "markdown",
   "id": "b6f26a56-873d-458f-988c-a719a940e864",
   "metadata": {},
   "source": [
    "# My Jupyter Notebook on IBM Watson Studio"
   ]
  },
  {
   "cell_type": "markdown",
   "id": "95bfd38e-1913-483e-99ba-c0aa42ff9184",
   "metadata": {},
   "source": [
    "**PRAKASH KUMAR SAHU**\n",
    "\n",
    "PhD, Mechanical Engineering"
   ]
  },
  {
   "cell_type": "markdown",
   "id": "150c5586-0fe7-42d8-9ce8-471fd7d77d7b",
   "metadata": {},
   "source": [
    "*I am interested in data science beacause i want to pursue my career as a material data scientist in Aviation industry*"
   ]
  },
  {
   "cell_type": "markdown",
   "id": "79805dcd-90d8-4028-9ab7-d8b75c5b375b",
   "metadata": {},
   "source": [
    "### Below cell consist of a sequencial code which add two string data and print a output"
   ]
  },
  {
   "cell_type": "code",
   "execution_count": 1,
   "id": "d57a52a6-e1a4-495a-9c3c-b89e7b3e062a",
   "metadata": {},
   "outputs": [
    {
     "name": "stdout",
     "output_type": "stream",
     "text": [
      "11\n"
     ]
    }
   ],
   "source": [
    "a = '1'\n",
    "b = '1'\n",
    "c = a + b\n",
    "print(c)"
   ]
  },
  {
   "cell_type": "markdown",
   "id": "a4e1d7c5-7e6e-49a2-af62-6045de3ae43c",
   "metadata": {},
   "source": [
    "* This is a bullet list\n",
    "1. Now this is a number list\n",
    "\n",
    "![](https://upload.wikimedia.org/wikipedia/commons/thumb/5/51/IBM_logo.svg/1200px-IBM_logo.svg.png?20220104162604)\n",
    "\n",
    "[This is a URL Link to IBM Watson Studio](https://www.ibm.com/cloud/watson-studio)"
   ]
  },
  {
   "cell_type": "code",
   "execution_count": null,
   "id": "58ff34e8-6a24-4697-98c7-2a4446d6359c",
   "metadata": {},
   "outputs": [],
   "source": []
  }
 ],
 "metadata": {
  "kernelspec": {
   "display_name": "Python",
   "language": "python",
   "name": "conda-env-python-py"
  },
  "language_info": {
   "codemirror_mode": {
    "name": "ipython",
    "version": 3
   },
   "file_extension": ".py",
   "mimetype": "text/x-python",
   "name": "python",
   "nbconvert_exporter": "python",
   "pygments_lexer": "ipython3",
   "version": "3.7.12"
  }
 },
 "nbformat": 4,
 "nbformat_minor": 5
}
